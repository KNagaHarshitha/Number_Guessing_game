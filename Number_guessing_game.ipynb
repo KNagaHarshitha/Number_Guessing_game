{
 "cells": [
  {
   "cell_type": "code",
   "execution_count": null,
   "id": "eceb6c98-f582-4f9f-972e-4cd10a1f4d38",
   "metadata": {},
   "outputs": [
    {
     "name": "stdin",
     "output_type": "stream",
     "text": [
      "Enter your name :  Harshitha\n"
     ]
    },
    {
     "name": "stdout",
     "output_type": "stream",
     "text": [
      "Harshitha Welcome to the number guessing game\n",
      "In this game you need to guess the secret number given by the system\n"
     ]
    },
    {
     "name": "stdin",
     "output_type": "stream",
     "text": [
      "Guess a number between 1 and 100:  50\n"
     ]
    },
    {
     "name": "stdout",
     "output_type": "stream",
     "text": [
      "Your guessed number 50 is greater than the secret number, try again!\n",
      "Hint 1 : The secret number is less than fifty(50)\n"
     ]
    },
    {
     "name": "stdin",
     "output_type": "stream",
     "text": [
      "Guess a number between 1 and 100:  45\n"
     ]
    },
    {
     "name": "stdout",
     "output_type": "stream",
     "text": [
      "Your guessed number 45 is greater than the secret number, try again!\n",
      "Hint 2 : The secret number is odd\n"
     ]
    },
    {
     "name": "stdin",
     "output_type": "stream",
     "text": [
      "Guess a number between 1 and 100:  35\n"
     ]
    },
    {
     "name": "stdout",
     "output_type": "stream",
     "text": [
      "Your guessed number 35 is lesser than the secret number, try again!\n",
      "Hint 3 : secret number is not a prime number.\n"
     ]
    },
    {
     "name": "stdin",
     "output_type": "stream",
     "text": [
      "Guess a number between 1 and 100:  39\n"
     ]
    },
    {
     "name": "stdout",
     "output_type": "stream",
     "text": [
      "Congratulations, you guessed the number!\n",
      "Number of attempts: 3\n",
      "Excellent you got 5 stars *****\n",
      "Do you want to play te game again\n"
     ]
    }
   ],
   "source": [
    "name=input(\"Enter your name : \")\n",
    "print(name,\"Welcome to the number guessing game\")\n",
    "print(\"In this game you need to guess the secret number given by the system\")\n",
    "\n",
    "    \n",
    "import random\n",
    "\n",
    "def guess_number():\n",
    "    secret_number = random.randint(1, 100)\n",
    "    def is_prime(n):\n",
    "        if n < 2:\n",
    "            return False\n",
    "        for i in range(2, int(n**0.5)+1):\n",
    "            if n % i == 0:\n",
    "                return False\n",
    "        return True\n",
    "    \n",
    "    \n",
    "    numbers = [x for x in range(1,secret_number)]\n",
    "    div_a=[]\n",
    "    for i in numbers:\n",
    "        if secret_number%i==0:\n",
    "            div_a.append(i)\n",
    "    \n",
    "\n",
    "    attempts = 0\n",
    "    while True:\n",
    "        try:\n",
    "            guess = int(input(\"Guess a number between 1 and 100: \"))\n",
    "            if guess == secret_number:\n",
    "                print(\"Congratulations, you guessed the number!\")\n",
    "                print(\"Number of attempts:\", attempts)\n",
    "                if attempts <= 3:\n",
    "                    print(\"Excellent you got 5 stars *****\")\n",
    "                if attempts == 4:\n",
    "                    print(\"Very good you got 4 stars ***\")\n",
    "                if attempts > 4:\n",
    "                    print(\"Good you got 1 stars *\")\n",
    "                \n",
    "                    print(\"Try hard to get big stars\")\n",
    "                print(\"Do you want to play te game again\")\n",
    "                \n",
    "                a=int(input(\"If you want to play the again select 'one(1)' to continue or 'zero(0)' to stop the game : \"))\n",
    "                if a==1:\n",
    "                    guess_number()\n",
    "                elif a==0:\n",
    "                    break\n",
    "                else:\n",
    "                    break\n",
    "                    \n",
    "            \n",
    "            elif guess < secret_number:\n",
    "                print(\"Your guessed number {} is lesser than the secret number, try again!\".format(guess))\n",
    "                attempts += 1\n",
    "            elif guess > secret_number:\n",
    "                print(\"Your guessed number {} is greater than the secret number, try again!\".format(guess))\n",
    "                attempts += 1\n",
    "            \n",
    "            if attempts == 1:\n",
    "                if secret_number <=50:\n",
    "                    print(\"Hint 1 : The secret number is less than fifty(50)\")\n",
    "                else:\n",
    "                    print(\"Hint 1 : The secret number is above fifty(50)\")\n",
    "            elif attempts == 2:\n",
    "                if secret_number % 2 ==0:\n",
    "                    print(\"Hint 2 : The secret number is even\")\n",
    "                else:\n",
    "                    print(\"Hint 2 : The secret number is odd\")\n",
    "            elif attempts == 3:\n",
    "                if is_prime(secret_number):\n",
    "                    print(\"Hint 3 : secret number is a prime number.\")\n",
    "                else:\n",
    "                    print(\"Hint 3 : secret number is not a prime number.\")\n",
    "            elif attempts == 4:\n",
    "                print(\"Hint 4 : The secret number is divisble by : \",div_a)\n",
    "            elif attempts == 5:\n",
    "                print(\"Hint 5 : The square of secret number is : \",secret_number**2)\n",
    "            elif attempts == 6:\n",
    "                print(\"Hint 6 : The cube root of secret number is : \",secret_number**1/3)\n",
    "        except ValueError:\n",
    "            print(\"Invalid input, please enter a number between 1 and 100.\")\n",
    "guess_number()"
   ]
  },
  {
   "cell_type": "code",
   "execution_count": null,
   "id": "a4fbe06a-adeb-4c57-9167-b6ed75b09ab2",
   "metadata": {},
   "outputs": [],
   "source": []
  }
 ],
 "metadata": {
  "kernelspec": {
   "display_name": "Python 3 (ipykernel)",
   "language": "python",
   "name": "python3"
  },
  "language_info": {
   "codemirror_mode": {
    "name": "ipython",
    "version": 3
   },
   "file_extension": ".py",
   "mimetype": "text/x-python",
   "name": "python",
   "nbconvert_exporter": "python",
   "pygments_lexer": "ipython3",
   "version": "3.12.7"
  }
 },
 "nbformat": 4,
 "nbformat_minor": 5
}
